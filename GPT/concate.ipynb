{
 "cells": [
  {
   "cell_type": "code",
   "execution_count": 4,
   "id": "982eccfd-43f5-4940-b652-fb959de5736e",
   "metadata": {},
   "outputs": [
    {
     "name": "stdout",
     "output_type": "stream",
     "text": [
      "✔️ All files combined into 'combined_specialty_coffee_roasters.csv'\n"
     ]
    }
   ],
   "source": [
    "import pandas as pd\n",
    "import glob\n",
    "\n",
    "# Find all CSV files that start with 'Filtered_' and end with '.csv'\n",
    "csv_files = glob.glob(\"Filtered_*_specialty_coffee_roasters.csv\")\n",
    "\n",
    "# List to hold individual DataFrames\n",
    "dfs = []\n",
    "\n",
    "# Read and append each file\n",
    "for file in csv_files:\n",
    "    df = pd.read_csv(file)\n",
    "    df['source_city'] = file.replace(\"Filtered_\", \"\").replace(\"_specialty_coffee_roasters.csv\", \"\")\n",
    "    dfs.append(df)\n",
    "\n",
    "# Concatenate all DataFrames into one\n",
    "combined_df = pd.concat(dfs, ignore_index=True)\n",
    "\n",
    "# Save the combined CSV\n",
    "combined_df.to_csv(\"combined_specialty_coffee_roasters.csv\", index=False)\n",
    "\n",
    "print(\"✔️ All files combined into 'combined_specialty_coffee_roasters.csv'\")\n"
   ]
  },
  {
   "cell_type": "code",
   "execution_count": 3,
   "id": "fa8450b4-c3c5-4b53-81a9-8d143a042d51",
   "metadata": {},
   "outputs": [
    {
     "name": "stdout",
     "output_type": "stream",
     "text": [
      "✅ Saved reordered file as 'combined_grouped_by_city_count.csv'\n"
     ]
    }
   ],
   "source": [
    "import pandas as pd\n",
    "\n",
    "# Load the combined file\n",
    "df = pd.read_csv(\"combined_specialty_coffee_roasters.csv\")\n",
    "\n",
    "# Compute counts per city\n",
    "city_counts = df['source_city'].value_counts().to_dict()\n",
    "\n",
    "# Sort the cities by their counts (ascending)\n",
    "cities_sorted = sorted(city_counts.keys(), key=lambda c: city_counts[c])\n",
    "\n",
    "# Re-build the DataFrame: all rows for the smallest-group city first, then next, …\n",
    "ordered_chunks = [df[df['source_city'] == city] for city in cities_sorted]\n",
    "df_grouped = pd.concat(ordered_chunks, ignore_index=True)\n",
    "\n",
    "# Save out\n",
    "df_grouped.to_csv(\"combined_grouped_by_city_count.csv\", index=False)\n",
    "\n",
    "print(\"✅ Saved reordered file as 'combined_grouped_by_city_count.csv'\")\n"
   ]
  },
  {
   "cell_type": "code",
   "execution_count": null,
   "id": "3e86b255-89ee-45a0-a185-28c98f642f20",
   "metadata": {},
   "outputs": [],
   "source": []
  }
 ],
 "metadata": {
  "kernelspec": {
   "display_name": "Python 3 (ipykernel)",
   "language": "python",
   "name": "python3"
  },
  "language_info": {
   "codemirror_mode": {
    "name": "ipython",
    "version": 3
   },
   "file_extension": ".py",
   "mimetype": "text/x-python",
   "name": "python",
   "nbconvert_exporter": "python",
   "pygments_lexer": "ipython3",
   "version": "3.9.19"
  }
 },
 "nbformat": 4,
 "nbformat_minor": 5
}
